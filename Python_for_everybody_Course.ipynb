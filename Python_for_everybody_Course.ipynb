{
  "nbformat": 4,
  "nbformat_minor": 0,
  "metadata": {
    "colab": {
      "name": "Python for everybody Course",
      "provenance": [],
      "collapsed_sections": [],
      "toc_visible": true,
      "authorship_tag": "ABX9TyOXVhCwzMND0yEhB6IYlh0u",
      "include_colab_link": true
    },
    "kernelspec": {
      "name": "python3",
      "display_name": "Python 3"
    }
  },
  "cells": [
    {
      "cell_type": "markdown",
      "metadata": {
        "id": "view-in-github",
        "colab_type": "text"
      },
      "source": [
        "<a href=\"https://colab.research.google.com/github/Romulo-Anjos/P4E_Course/blob/master/Python_for_everybody_Course.ipynb\" target=\"_parent\"><img src=\"https://colab.research.google.com/assets/colab-badge.svg\" alt=\"Open In Colab\"/></a>"
      ]
    },
    {
      "cell_type": "markdown",
      "metadata": {
        "id": "kTxqG3Qr54kc",
        "colab_type": "text"
      },
      "source": [
        "# **Regular Expressions**\n",
        "\n",
        "Reading all the numbers in a txt file and return the sum of all"
      ]
    },
    {
      "cell_type": "code",
      "metadata": {
        "id": "9ZwDFuKIGuCT",
        "colab_type": "code",
        "outputId": "2e73bbe0-cfe9-4b5d-951b-8a4d2b815831",
        "colab": {
          "base_uri": "https://localhost:8080/",
          "height": 35
        }
      },
      "source": [
        "import re\n",
        "text =  open('regex_sum_410838.txt') #opening the file\n",
        "numlist =  list()\n",
        "\n",
        "for line in text: # reading each line on the file\n",
        "  i = 0\n",
        "  num_text =  re.findall('([0-9]+)',line) # finding all numbers \n",
        "  if len(num_text) < 1: # excluding the lines without number\n",
        "    continue\n",
        "  for i in num_text:\n",
        "   numlist.append(float(i)) # adding each new number to numlist list \n",
        "print (sum(numlist)) # showing the sum of all number in the file"
      ],
      "execution_count": 0,
      "outputs": [
        {
          "output_type": "stream",
          "text": [
            "539192.0\n"
          ],
          "name": "stdout"
        }
      ]
    },
    {
      "cell_type": "markdown",
      "metadata": {
        "id": "gXc0ILVL6qUL",
        "colab_type": "text"
      },
      "source": [
        "# **Network Programming**\n",
        "\n",
        "1 - Reading a page from \"Python for Everybody\" using sockets"
      ]
    },
    {
      "cell_type": "code",
      "metadata": {
        "id": "4NC6zePsIPMh",
        "colab_type": "code",
        "outputId": "c42b0ddb-d77f-4102-edaa-77267513494d",
        "colab": {
          "base_uri": "https://localhost:8080/",
          "height": 326
        }
      },
      "source": [
        "import socket\n",
        "\n",
        "mysock =  socket.socket(socket.AF_INET, socket.SOCK_STREAM) #creating the socket to communicate\n",
        "mysock.connect(('data.pr4e.org',80))\n",
        "cmd = 'GET http://data.pr4e.org/romeo.txt HTTP/1.0\\r\\n\\r\\n'.encode() #encoding the bytes to UTF-8\n",
        "mysock.send(cmd) # send the message to the server\n",
        "\n",
        "while True:\n",
        "  data = mysock.recv(512) #receive 512 bytes on each data package\n",
        "  if (len(data) < 1):\n",
        "    break # stopping receiving when the data is 0\n",
        "  print(data.decode(), end='') # decoding and print the website\n",
        "mysock.close()"
      ],
      "execution_count": 0,
      "outputs": [
        {
          "output_type": "stream",
          "text": [
            "HTTP/1.1 200 OK\r\n",
            "Date: Wed, 01 Apr 2020 18:07:14 GMT\r\n",
            "Server: Apache/2.4.18 (Ubuntu)\r\n",
            "Last-Modified: Sat, 13 May 2017 11:22:22 GMT\r\n",
            "ETag: \"a7-54f6609245537\"\r\n",
            "Accept-Ranges: bytes\r\n",
            "Content-Length: 167\r\n",
            "Cache-Control: max-age=0, no-cache, no-store, must-revalidate\r\n",
            "Pragma: no-cache\r\n",
            "Expires: Wed, 11 Jan 1984 05:00:00 GMT\r\n",
            "Connection: close\r\n",
            "Content-Type: text/plain\r\n",
            "\r\n",
            "But soft what light through yonder window breaks\n",
            "It is the east and Juliet is the sun\n",
            "Arise fair sun and kill the envious moon\n",
            "Who is already sick and pale with grief\n"
          ],
          "name": "stdout"
        }
      ]
    },
    {
      "cell_type": "markdown",
      "metadata": {
        "id": "PYn_LUBW8jsL",
        "colab_type": "text"
      },
      "source": [
        "2 - Reading a page from \"Python for Everybody\" using urllib library"
      ]
    },
    {
      "cell_type": "code",
      "metadata": {
        "id": "pfmAOqv-8r4f",
        "colab_type": "code",
        "outputId": "85b6a716-883e-4088-d5e5-2d4631592e9b",
        "colab": {
          "base_uri": "https://localhost:8080/",
          "height": 207
        }
      },
      "source": [
        "import urllib as url\n",
        "\n",
        "fhand = url.request.urlopen('http://data.pr4e.org/romeo.txt')\n",
        "for line in fhand:\n",
        "    print(line.decode().strip())"
      ],
      "execution_count": 0,
      "outputs": [
        {
          "output_type": "error",
          "ename": "TypeError",
          "evalue": "ignored",
          "traceback": [
            "\u001b[0;31m---------------------------------------------------------------------------\u001b[0m",
            "\u001b[0;31mTypeError\u001b[0m                                 Traceback (most recent call last)",
            "\u001b[0;32m<ipython-input-34-1a4e29ea2e77>\u001b[0m in \u001b[0;36m<module>\u001b[0;34m()\u001b[0m\n\u001b[1;32m      3\u001b[0m \u001b[0mfhand\u001b[0m \u001b[0;34m=\u001b[0m \u001b[0murl\u001b[0m\u001b[0;34m.\u001b[0m\u001b[0mrequest\u001b[0m\u001b[0;34m.\u001b[0m\u001b[0murlopen\u001b[0m\u001b[0;34m(\u001b[0m\u001b[0;34m'http://data.pr4e.org/romeo.txt'\u001b[0m\u001b[0;34m)\u001b[0m\u001b[0;34m\u001b[0m\u001b[0;34m\u001b[0m\u001b[0m\n\u001b[1;32m      4\u001b[0m \u001b[0;32mfor\u001b[0m \u001b[0mline\u001b[0m \u001b[0;32min\u001b[0m \u001b[0mfhand\u001b[0m\u001b[0;34m:\u001b[0m\u001b[0;34m\u001b[0m\u001b[0;34m\u001b[0m\u001b[0m\n\u001b[0;32m----> 5\u001b[0;31m     \u001b[0mprint\u001b[0m\u001b[0;34m(\u001b[0m\u001b[0mline\u001b[0m\u001b[0;34m.\u001b[0m\u001b[0mdecode\u001b[0m\u001b[0;34m(\u001b[0m\u001b[0;34m)\u001b[0m\u001b[0;34m.\u001b[0m\u001b[0mstrip\u001b[0m\u001b[0;34m(\u001b[0m\u001b[0;34m)\u001b[0m\u001b[0;34m)\u001b[0m\u001b[0;34m\u001b[0m\u001b[0;34m\u001b[0m\u001b[0m\n\u001b[0m",
            "\u001b[0;31mTypeError\u001b[0m: 'str' object is not callable"
          ]
        }
      ]
    },
    {
      "cell_type": "markdown",
      "metadata": {
        "id": "6hJeu_Or_nMU",
        "colab_type": "text"
      },
      "source": [
        "3 -  Using *Beautiful Soups*"
      ]
    },
    {
      "cell_type": "code",
      "metadata": {
        "id": "jMLQDm8__sng",
        "colab_type": "code",
        "outputId": "3c0e4d54-2e94-4143-a5de-1367f7eda3b7",
        "colab": {
          "base_uri": "https://localhost:8080/",
          "height": 54
        }
      },
      "source": [
        "import urllib as url\n",
        "from bs4 import BeautifulSoup\n",
        "\n",
        "address = input('Enter -')\n",
        "html = url.request.urlopen(address).read()\n",
        "soup = BeautifulSoup(html,'html.parser')\n",
        "\n",
        "# Retrieve all of the anchor tags\n",
        "tags = soup('a')\n",
        "for tag in tags:\n",
        "  print(tag.get('href', None))"
      ],
      "execution_count": 0,
      "outputs": [
        {
          "output_type": "stream",
          "text": [
            "Enter -http://www.dr-chuck.com/page2.htm\n",
            "page1.htm\n"
          ],
          "name": "stdout"
        }
      ]
    },
    {
      "cell_type": "markdown",
      "metadata": {
        "id": "w3w2Fj-eA-_k",
        "colab_type": "text"
      },
      "source": [
        "**Exercise 1**\n",
        "\n",
        "Request-Response Cycle"
      ]
    },
    {
      "cell_type": "code",
      "metadata": {
        "id": "pYQpiptWBF03",
        "colab_type": "code",
        "outputId": "72c78e60-d994-4eac-e586-73d73640bd19",
        "colab": {
          "base_uri": "https://localhost:8080/",
          "height": 435
        }
      },
      "source": [
        "import socket\n",
        "\n",
        "mysock = socket.socket(socket.AF_INET, socket.SOCK_STREAM)\n",
        "mysock.connect(('data.pr4e.org', 80))\n",
        "cmd = 'GET http://data.pr4e.org/intro-short.txt HTTP/1.0\\r\\n\\r\\n'.encode()\n",
        "mysock.send(cmd)\n",
        "\n",
        "while True:\n",
        "    data = mysock.recv(512)\n",
        "    if len(data) < 1:\n",
        "        break\n",
        "    print(data.decode(),end='')\n",
        "\n",
        "mysock.close()"
      ],
      "execution_count": 0,
      "outputs": [
        {
          "output_type": "stream",
          "text": [
            "HTTP/1.1 200 OK\r\n",
            "Date: Wed, 01 Apr 2020 18:33:39 GMT\r\n",
            "Server: Apache/2.4.18 (Ubuntu)\r\n",
            "Last-Modified: Sat, 13 May 2017 11:22:22 GMT\r\n",
            "ETag: \"1d3-54f6609240717\"\r\n",
            "Accept-Ranges: bytes\r\n",
            "Content-Length: 467\r\n",
            "Cache-Control: max-age=0, no-cache, no-store, must-revalidate\r\n",
            "Pragma: no-cache\r\n",
            "Expires: Wed, 11 Jan 1984 05:00:00 GMT\r\n",
            "Connection: close\r\n",
            "Content-Type: text/plain\r\n",
            "\r\n",
            "Why should you learn to write programs?\n",
            "\n",
            "Writing programs (or programming) is a very creative \n",
            "and rewarding activity.  You can write programs for \n",
            "many reasons, ranging from making your living to solving\n",
            "a difficult data analysis problem to having fun to helping\n",
            "someone else solve a problem.  This book assumes that \n",
            "everyone needs to know how to program, and that once \n",
            "you know how to program you will figure out what you want \n",
            "to do with your newfound skills.  \n"
          ],
          "name": "stdout"
        }
      ]
    },
    {
      "cell_type": "markdown",
      "metadata": {
        "id": "KpMZtdAfCU-J",
        "colab_type": "text"
      },
      "source": [
        "**Exercise 2**\n",
        "\n",
        "Scraping HTML Data with BeautifulSoup\n",
        "Retrieve the sum of all lines for the table located at: http://py4e-data.dr-chuck.net/comments_42.html"
      ]
    },
    {
      "cell_type": "code",
      "metadata": {
        "id": "IBtTsB21CyoQ",
        "colab_type": "code",
        "colab": {}
      },
      "source": [
        "from urllib.request import urlopen\n",
        "from bs4 import BeautifulSoup\n",
        "import ssl\n",
        "import re\n",
        "\n",
        "# Ignore SSL certificate errors\n",
        "ctx = ssl.create_default_context()\n",
        "ctx.check_hostname = False\n",
        "ctx.verify_mode = ssl.CERT_NONE\n",
        "\n",
        "#url = input('Enter - ')\n",
        "html = urlopen('http://py4e-data.dr-chuck.net/comments_42.html', context=ctx).read()\n",
        "soup = BeautifulSoup(html, \"html.parser\")\n",
        "num = 0\n",
        "\n",
        "#Retrieve all of the spams tags\n",
        "for tag in soup('span'): \n",
        "  num = int(tag.contents[0])+num\n",
        "print(num)"
      ],
      "execution_count": 0,
      "outputs": []
    },
    {
      "cell_type": "markdown",
      "metadata": {
        "id": "oDtfklkzRhtk",
        "colab_type": "text"
      },
      "source": [
        "**Exercise 3**\n",
        "\n",
        "Following Links in Python: find the last name located on the tree: http://py4e-data.dr-chuck.net/known_by_Darl.html"
      ]
    },
    {
      "cell_type": "code",
      "metadata": {
        "id": "_zmJwjwZScNr",
        "colab_type": "code",
        "colab": {}
      },
      "source": [
        "import urllib.request, urllib.parse, urllib.error\n",
        "from bs4 import BeautifulSoup\n",
        "import ssl\n",
        "\n",
        "# Ignore SSL certificate errors\n",
        "ctx = ssl.create_default_context()\n",
        "ctx.check_hostname = False\n",
        "ctx.verify_mode = ssl.CERT_NONE\n",
        "\n",
        "count = 0\n",
        "\n",
        "url = input('Enter the first adress ')\n",
        "html = urllib.request.urlopen(url, context=ctx).read()\n",
        "soup = soup = BeautifulSoup(html, 'html.parser')\n",
        "for tag in soup('a', limit = 18): #looking for the 18th link on the page\n",
        "  link = tag.get('href')\n",
        "\n",
        "while count < 6: #loop to find the next 6 jumps (18th link for each page)\n",
        "  html = urllib.request.urlopen(link, context=ctx).read()\n",
        "  soup = soup = BeautifulSoup(html, 'html.parser')\n",
        "  for tag in soup('a', limit = 18):\n",
        "    link = tag.get('href')\n",
        "  count = count+1\n",
        "print(link)"
      ],
      "execution_count": 0,
      "outputs": []
    },
    {
      "cell_type": "markdown",
      "metadata": {
        "id": "DvRWdiyP9dXE",
        "colab_type": "text"
      },
      "source": [
        "# **Web Services using Python**"
      ]
    },
    {
      "cell_type": "markdown",
      "metadata": {
        "id": "6n7jKS1ToGGl",
        "colab_type": "text"
      },
      "source": [
        "1 - Reading XLM files"
      ]
    },
    {
      "cell_type": "code",
      "metadata": {
        "id": "Oy9sC-Pd9iHz",
        "colab_type": "code",
        "colab": {}
      },
      "source": [
        "import xml.etree.ElementTree as ET\n",
        "input = '''<stuff>\n",
        "    <users>\n",
        "        <user x=\"2\">\n",
        "            <id>001</id>\n",
        "            <name>Chuck</name>\n",
        "        </user>\n",
        "        <user x=\"7\">\n",
        "            <id>009</id>\n",
        "            <name>Brent</name>\n",
        "        </user>\n",
        "    </users>\n",
        "</stuff>'''\n",
        "\n",
        "stuff = ET.fromstring(input)\n",
        "lst = stuff.findall('users/user')\n",
        "#print('User count:',len(lst))\n",
        "for item in lst:\n",
        "    print('looking for new user...')\n",
        "    print('Id:', item.find('id').text)\n",
        "    print('Name:', item.find('name').text)\n",
        "    print('Attribute:', item.get(\"x\"))"
      ],
      "execution_count": 0,
      "outputs": []
    },
    {
      "cell_type": "markdown",
      "metadata": {
        "id": "p4pHYWF4oLNC",
        "colab_type": "text"
      },
      "source": [
        "2 - Reading JSON files"
      ]
    },
    {
      "cell_type": "code",
      "metadata": {
        "id": "tkfGaYRZUcU6",
        "colab_type": "code",
        "colab": {}
      },
      "source": [
        "import json\n",
        "\n",
        "input = '''[\n",
        "  { \"id\" : \"001\",\n",
        "    \"x\" : \"2\",\n",
        "    \"name\" : \"Chuck\"\n",
        "  } ,\n",
        "  { \"id\" : \"009\",\n",
        "    \"x\" : \"7\",\n",
        "    \"name\" : \"Chuck\"\n",
        "  }\n",
        "]'''\n",
        "\n",
        "info = json.loads(input)\n",
        "print ('User count:', len(info))\n",
        "for user in info:\n",
        "    print('Name:', user[\"name\"])\n",
        "    print('Id:', user[\"id\"])\n",
        "    print('Attribute:', user[\"x\"])"
      ],
      "execution_count": 0,
      "outputs": []
    },
    {
      "cell_type": "markdown",
      "metadata": {
        "id": "qZhRG-EHoTnb",
        "colab_type": "text"
      },
      "source": [
        "Exercise 1\n",
        "\n",
        "Extracting and sum the numbers from a XML file"
      ]
    },
    {
      "cell_type": "code",
      "metadata": {
        "id": "D9b2WxwR1SxL",
        "colab_type": "code",
        "colab": {}
      },
      "source": [
        "import urllib.request, urllib.parse, urllib.error\n",
        "import xml.etree.ElementTree as ET\n",
        "import ssl\n",
        "\n",
        "# Ignore SSL certificate errors\n",
        "ctx = ssl.create_default_context()\n",
        "ctx.check_hostname = False\n",
        "ctx.verify_mode = ssl.CERT_NONE\n",
        "\n",
        "address = input('Enter location: ') \n",
        "\n",
        "print('Retrieving', address)\n",
        "url = urllib.request.urlopen(address, context=ctx) #sending the request\n",
        "\n",
        "data = url.read() #reading the data received\n",
        "print('Retrieved', len(data), 'characters') #show the number of received characters\n",
        "tree = ET.fromstring(data) #transform the data in string\n",
        "results = tree.findall(\".//count\") #look for the data from the count tag\n",
        "print('Count:', len(results))\n",
        "\n",
        "sum = 0\n",
        "for item in results:\n",
        "    sum = int(item.text)+sum #sum the values from the count tag\n",
        "print(sum)"
      ],
      "execution_count": 0,
      "outputs": []
    },
    {
      "cell_type": "markdown",
      "metadata": {
        "id": "WdvJPK1t7z3A",
        "colab_type": "text"
      },
      "source": [
        "Exercise 2\n",
        "\n",
        "Extracting and sum the numbers from a JSON file"
      ]
    },
    {
      "cell_type": "code",
      "metadata": {
        "id": "1X-lgWhl76yH",
        "colab_type": "code",
        "colab": {}
      },
      "source": [
        "import json\n",
        "import urllib.request, urllib.parse, urllib.error\n",
        "import ssl\n",
        "\n",
        "# Ignore SSL certificate errors\n",
        "ctx = ssl.create_default_context()\n",
        "ctx.check_hostname = False\n",
        "ctx.verify_mode = ssl.CERT_NONE\n",
        "\n",
        "address = input('Enter location: ') \n",
        "\n",
        "print('Retrieving', address)\n",
        "url = urllib.request.urlopen(address, context=ctx) #sending the request\n",
        "\n",
        "data = url.read() #reading the data received\n",
        "print('Retrieved', len(data), 'characters') #show the number of received characters\n",
        "info = json.loads(data) #transform the data in string\n",
        "info_2 = info[\"comments\"] #get the values for the list of comments\n",
        "print('User count:', len(info_2))\n",
        "\n",
        "sum = 0\n",
        "for item in info_2:\n",
        "    #print(item[\"count\"])\n",
        "    sum = int(item[\"count\"])+sum\n",
        "print(\"Sum:\", sum)"
      ],
      "execution_count": 0,
      "outputs": []
    },
    {
      "cell_type": "markdown",
      "metadata": {
        "id": "qJzE-CHTCGQQ",
        "colab_type": "text"
      },
      "source": [
        "#**Databases**"
      ]
    },
    {
      "cell_type": "markdown",
      "metadata": {
        "id": "-sACnSLEDRJg",
        "colab_type": "text"
      },
      "source": [
        "1 - Counting Organizations (TXT File)\n",
        "\n",
        "This application will read the mailbox data (mbox.txt) and count the number of email messages per organization (i.e. domain name of the email address) using a database with the following schema to maintain the counts."
      ]
    },
    {
      "cell_type": "code",
      "metadata": {
        "id": "VsaYKtgiDfvn",
        "colab_type": "code",
        "outputId": "bc4c0bff-978a-4357-80e3-4da41d291f0b",
        "colab": {
          "base_uri": "https://localhost:8080/",
          "height": 199
        }
      },
      "source": [
        "import sqlite3\n",
        "\n",
        "conn = sqlite3.connect('results.sqlite') # creates a new SQLite file\n",
        "cur = conn.cursor()\n",
        "\n",
        "cur.execute('DROP TABLE IF EXISTS Counts')\n",
        "\n",
        "cur.execute('''\n",
        "CREATE TABLE Counts (org TEXT, count INTEGER)''') #Create the table on SQL \n",
        "\n",
        "fh = open('mbox.txt') # reads the txt file\n",
        "for line in fh:\n",
        "    if not line.startswith('From: '): continue\n",
        "    org = line.split()[1].split('@')[1] # get the information after the @ (organization)\n",
        "    cur.execute('SELECT count FROM Counts WHERE org = ? ', (org,)) #put the information on the table\n",
        "    row = cur.fetchone()\n",
        "    if row is None: # if this is the first appearance\n",
        "        cur.execute('''INSERT INTO Counts (org, count) \n",
        "              VALUES (?, 1)''', (org,)) #\n",
        "    else: #incrementing the counting for the organization that appeared before\n",
        "        cur.execute('UPDATE Counts SET count = count + 1 WHERE org = ?',\n",
        "                    (org,))\n",
        "conn.commit()\n",
        "\n",
        "sqlstr = 'SELECT org, count FROM Counts ORDER BY count DESC LIMIT 10' # doing a quary at SQLite to returns the top 10 organization\n",
        "\n",
        "for row in cur.execute(sqlstr):\n",
        "    print(\"Organization:\",str(row[0]), \"Number of emails:\", row[1])\n",
        "\n",
        "cur.close()"
      ],
      "execution_count": 0,
      "outputs": [
        {
          "output_type": "stream",
          "text": [
            "Organization: iupui.edu Number of emails: 536\n",
            "Organization: umich.edu Number of emails: 491\n",
            "Organization: indiana.edu Number of emails: 178\n",
            "Organization: caret.cam.ac.uk Number of emails: 157\n",
            "Organization: vt.edu Number of emails: 110\n",
            "Organization: uct.ac.za Number of emails: 96\n",
            "Organization: media.berkeley.edu Number of emails: 56\n",
            "Organization: ufp.pt Number of emails: 28\n",
            "Organization: gmail.com Number of emails: 25\n",
            "Organization: et.gatech.edu Number of emails: 17\n"
          ],
          "name": "stdout"
        }
      ]
    },
    {
      "cell_type": "markdown",
      "metadata": {
        "id": "SGyi0JyADvoG",
        "colab_type": "text"
      },
      "source": [
        "2 - Musical Track Database (XML File)\n",
        "\n",
        "This application will read an iTunes export file in XML and produce a properly normalized database"
      ]
    },
    {
      "cell_type": "code",
      "metadata": {
        "id": "_OiYZGPBD36F",
        "colab_type": "code",
        "outputId": "4c5de166-4888-4a4b-92df-ddfe58112971",
        "colab": {
          "base_uri": "https://localhost:8080/",
          "height": 145
        }
      },
      "source": [
        "import xml.etree.ElementTree as ET  #importing the libraries\n",
        "import sqlite3\n",
        "\n",
        "conn = sqlite3.connect('exercise3.sqlite')\n",
        "cur = conn.cursor() # writes the information inside the SQLlite\n",
        "\n",
        "# Make some fresh tables using executescript()\n",
        "cur.executescript('''\n",
        "DROP TABLE IF EXISTS Artist;\n",
        "DROP TABLE IF EXISTS Album;\n",
        "DROP TABLE IF EXISTS Track;\n",
        "DROP TABLE IF EXISTS Genre;\n",
        "\n",
        "CREATE TABLE Artist (\n",
        "    id  INTEGER NOT NULL PRIMARY KEY AUTOINCREMENT UNIQUE,\n",
        "    name    TEXT UNIQUE\n",
        ");\n",
        "\n",
        "CREATE TABLE Genre (\n",
        "    id  INTEGER NOT NULL PRIMARY KEY AUTOINCREMENT UNIQUE,\n",
        "    name    TEXT UNIQUE\n",
        ");\n",
        "\n",
        "CREATE TABLE Album (\n",
        "    id  INTEGER NOT NULL PRIMARY KEY AUTOINCREMENT UNIQUE,\n",
        "    artist_id  INTEGER,\n",
        "    title   TEXT UNIQUE\n",
        ");\n",
        "\n",
        "CREATE TABLE Track (\n",
        "    id  INTEGER NOT NULL PRIMARY KEY \n",
        "        AUTOINCREMENT UNIQUE,\n",
        "    title TEXT  UNIQUE,\n",
        "    album_id  INTEGER,\n",
        "    genre_id INTEGER, \n",
        "    len INTEGER, rating INTEGER, count INTEGER\n",
        ");\n",
        "''')\n",
        "\n",
        "def lookup(d, key): # function that creates the table structure\n",
        "    found = False\n",
        "    for child in d:\n",
        "        if found : return child.text # returns the information\n",
        "        if child.tag == 'key' and child.text == key : # looks if there is any value for the line\n",
        "            found = True\n",
        "    return None #returns nothing\n",
        "\n",
        "stuff = ET.parse('Library.xml') # reading the XML file \n",
        "all = stuff.findall('dict/dict/dict') # extracting the information for the third level\n",
        "print('Dict count:', len(all)) \n",
        "\n",
        "for entry in all:\n",
        "    if ( lookup(entry, 'Track ID') is None ) : continue\n",
        "    # look for the informationof each line of XML file\n",
        "    name = lookup(entry, 'Name')\n",
        "    artist = lookup(entry, 'Artist')\n",
        "    album = lookup(entry, 'Album')\n",
        "    count = lookup(entry, 'Play Count')\n",
        "    rating = lookup(entry, 'Rating')\n",
        "    length = lookup(entry, 'Total Time')\n",
        "    genre = lookup(entry,  'Genre')\n",
        "\n",
        "    if name is None or artist is None or album is None or genre is None: \n",
        "        continue\n",
        "\n",
        "    #print(name, artist, album, count, rating, length, genre)\n",
        "\n",
        "    cur.execute('''INSERT OR IGNORE INTO Artist (name)\n",
        "        VALUES ( ? )''', ( artist, ) ) #execute the SQL file to fill the Artist Table =\n",
        "    cur.execute('SELECT id FROM Artist WHERE name = ? ', (artist, )) #looks for the id of the artist\n",
        "    artist_id = cur.fetchone()[0] #get the id of the artist\n",
        "\n",
        "    cur.execute('''INSERT OR IGNORE INTO Genre (name) \n",
        "        VALUES ( ? )''', ( genre, ) ) #fills the Genre of the track\n",
        "    cur.execute('SELECT id FROM Genre WHERE name = ? ', (genre, ))\n",
        "    genre_id = cur.fetchone()[0]\n",
        "    \n",
        "    cur.execute('''INSERT OR IGNORE INTO Album (title, artist_id) \n",
        "        VALUES ( ?, ? )''', ( album, artist_id ) ) #fills the Album Table\n",
        "    cur.execute('SELECT id FROM Album WHERE title = ? ', (album, ))\n",
        "    album_id = cur.fetchone()[0]\n",
        "\n",
        "    cur.execute('''INSERT OR REPLACE INTO Track\n",
        "        (title, album_id, len, rating, count, genre_id) \n",
        "        VALUES ( ?, ?, ?, ?, ?, ? )''', \n",
        "        ( name, album_id, length, rating, count, genre_id ) ) # filss the Track Table\n",
        "    \n",
        "sqlstr = 'SELECT Track.title, Artist.name, Album.title, Genre.name FROM Track JOIN Genre JOIN Album JOIN Artist ON Track.genre_id = Genre.id AND Track.album_id  = Album.id AND Album.artist_id =  Artist.id ORDER BY Artist.name LIMIT 3'\n",
        "\n",
        "for row in cur.execute(sqlstr):\n",
        "    print(\"\\n\",\"Track:\",str(row[0]), \"Artist:\", row[1], \"Album:\", str(row[2]), \"Genre:\", str(row[3]))\n",
        "\n",
        "conn.commit()"
      ],
      "execution_count": 0,
      "outputs": [
        {
          "output_type": "stream",
          "text": [
            "Dict count: 404\n",
            "\n",
            " Track: For Those About To Rock (We Salute You) Artist: AC/DC Album: Who Made Who Genre: Rock\n",
            "\n",
            " Track: Hells Bells Artist: AC/DC Album: Who Made Who Genre: Rock\n",
            "\n",
            " Track: Shake Your Foundations Artist: AC/DC Album: Who Made Who Genre: Rock\n"
          ],
          "name": "stdout"
        }
      ]
    },
    {
      "cell_type": "markdown",
      "metadata": {
        "id": "rN0IER7bFEdu",
        "colab_type": "text"
      },
      "source": [
        "3 - Analizing the JSON file\n",
        "\n",
        "This application will read roster data in JSON format, parse the file, and then produce an SQLite database that contains a User, Course, and Member table and populate the tables from the data file."
      ]
    },
    {
      "cell_type": "code",
      "metadata": {
        "id": "hAHDYJXJFav9",
        "colab_type": "code",
        "outputId": "de9d0977-a9ab-48e3-d0ce-e0835995907d",
        "colab": {
          "base_uri": "https://localhost:8080/",
          "height": 108
        }
      },
      "source": [
        "import json\n",
        "import sqlite3\n",
        "\n",
        "conn = sqlite3.connect('exercise1.sqlite')\n",
        "cur = conn.cursor()\n",
        "\n",
        "# Do some setup\n",
        "cur.executescript('''\n",
        "DROP TABLE IF EXISTS User;\n",
        "DROP TABLE IF EXISTS Member;\n",
        "DROP TABLE IF EXISTS Course;\n",
        "\n",
        "CREATE TABLE User (\n",
        "    id     INTEGER NOT NULL PRIMARY KEY AUTOINCREMENT UNIQUE,\n",
        "    name   TEXT UNIQUE\n",
        ");\n",
        "\n",
        "CREATE TABLE Course (\n",
        "    id     INTEGER NOT NULL PRIMARY KEY AUTOINCREMENT UNIQUE,\n",
        "    title  TEXT UNIQUE\n",
        ");\n",
        "\n",
        "CREATE TABLE Member (\n",
        "    user_id     INTEGER,\n",
        "    course_id   INTEGER,\n",
        "    role        INTEGER,\n",
        "    PRIMARY KEY (user_id, course_id)\n",
        ")\n",
        "''')\n",
        "\n",
        "str_data = open('roster_data.json').read() #reading the JSON file...\n",
        "json_data = json.loads(str_data)\n",
        "\n",
        "for entry in json_data:\n",
        "    #get the information from the file \n",
        "    name = entry[0];\n",
        "    title = entry[1];\n",
        "    role = entry[2];\n",
        "\n",
        "    # Complete the tables with information\n",
        "    cur.execute('''INSERT OR IGNORE INTO User (name)\n",
        "        VALUES ( ? )''', ( name, ) )\n",
        "    cur.execute('SELECT id FROM User WHERE name = ? ', (name, ))\n",
        "    user_id = cur.fetchone()[0]\n",
        "\n",
        "    cur.execute('''INSERT OR IGNORE INTO Course (title)\n",
        "        VALUES ( ? )''', ( title, ) )\n",
        "    cur.execute('SELECT id FROM Course WHERE title = ? ', (title, ))\n",
        "    course_id = cur.fetchone()[0]\n",
        "\n",
        "    cur.execute('''INSERT OR REPLACE INTO Member\n",
        "        (user_id, course_id, role) VALUES ( ?, ?,? )''',\n",
        "        ( user_id, course_id, role ) )\n",
        "\n",
        "conn.commit()\n",
        "\n",
        "sqlstr = 'SELECT hex(User.name || Course.title || Member.role ) AS X FROM User JOIN Member JOIN Course ON User.id = Member.user_id AND Member.course_id = Course.id ORDER BY X LIMIT 5'\n",
        "\n",
        "for row in cur.execute(sqlstr):\n",
        "    print(\"Results:\",str(row[0]))"
      ],
      "execution_count": 0,
      "outputs": [
        {
          "output_type": "stream",
          "text": [
            "Results: 4162696861736931313030\n",
            "Results: 4162726168616D736932303630\n",
            "Results: 4162726172736934333030\n",
            "Results: 416461696E736931313030\n",
            "Results: 41647269616E736933363330\n"
          ],
          "name": "stdout"
        }
      ]
    }
  ]
}